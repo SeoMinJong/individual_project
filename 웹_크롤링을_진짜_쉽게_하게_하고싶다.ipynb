{
  "nbformat": 4,
  "nbformat_minor": 2,
  "metadata": {
    "colab": {
      "name": "웹 크롤링을 진짜 쉽게 하게 하고싶다.ipynb",
      "provenance": [],
      "collapsed_sections": [],
      "mount_file_id": "1sA9D8x1E_42MLLnz9D-XPEAVYKzSGXdi",
      "authorship_tag": "ABX9TyNeS20AacgEsXlg6/4psBB2",
      "include_colab_link": true
    },
    "kernelspec": {
      "name": "python3",
      "display_name": "Python 3.8.10 64-bit ('AI': conda)"
    },
    "language_info": {
      "name": "python",
      "version": "3.8.10",
      "mimetype": "text/x-python",
      "codemirror_mode": {
        "name": "ipython",
        "version": 3
      },
      "pygments_lexer": "ipython3",
      "nbconvert_exporter": "python",
      "file_extension": ".py"
    },
    "interpreter": {
      "hash": "a5687bde95fd6fca2ec3b85cb3c9285f22ecff7124cf9696e13fa92a9bda5109"
    }
  },
  "cells": [
    {
      "cell_type": "code",
      "execution_count": 2,
      "source": [
        "# 솔직히 웹 크롤링 좋은거 같은데 일반인은 고사하고 초보자조차도 활용하기 진짜 뒤지게 어렵다.\r\n",
        "# 그러면 이렇게 어려운 웹 크롤링 근데 좋은건 다 알잖음 그러면 쉽게만 만들면 어때?\r\n",
        "# 이미 크롤링 프로그램 많지 근데 한국에 특화된게 있나? 그것도 일반인이 검색만 하면 쭉 긁어오게해주는 프로그램 있나?\r\n",
        "# 그러면 만들 의미는 충분한거 같다."
      ],
      "outputs": [],
      "metadata": {
        "id": "Rn2jbXjnmRll"
      }
    },
    {
      "cell_type": "code",
      "execution_count": 3,
      "source": [
        "!pip install Selenium\r\n",
        "!apt-get update # to update ubuntu to correctly run apt install\r\n",
        "!apt install chromium-chromedriver"
      ],
      "outputs": [
        {
          "output_type": "stream",
          "name": "stdout",
          "text": [
            "Requirement already satisfied: Selenium in c:\\users\\seominjong\\anaconda3\\envs\\ai\\lib\\site-packages (3.141.0)\n",
            "Requirement already satisfied: urllib3 in c:\\users\\seominjong\\anaconda3\\envs\\ai\\lib\\site-packages (from Selenium) (1.26.4)\n"
          ]
        },
        {
          "output_type": "stream",
          "name": "stderr",
          "text": [
            "'apt-get'��(��) ���� �Ǵ� �ܺ� ����, ������ �� �ִ� ���α׷�, �Ǵ�\n",
            "��ġ ������ �ƴմϴ�.\n",
            "'apt'��(��) ���� �Ǵ� �ܺ� ����, ������ �� �ִ� ���α׷�, �Ǵ�\n",
            "��ġ ������ �ƴմϴ�.\n"
          ]
        }
      ],
      "metadata": {
        "colab": {
          "base_uri": "https://localhost:8080/"
        },
        "id": "hFCi8Cfds9cc",
        "outputId": "0a0ba3ff-6f67-42da-d819-75c9c3e78fb0"
      }
    },
    {
      "cell_type": "code",
      "execution_count": 4,
      "source": [
        "# 한글 폰트 설치\r\n",
        "!apt-get install -y fonts-nanum*"
      ],
      "outputs": [
        {
          "output_type": "stream",
          "name": "stderr",
          "text": [
            "'apt-get'��(��) ���� �Ǵ� �ܺ� ����, ������ �� �ִ� ���α׷�, �Ǵ�\n",
            "��ġ ������ �ƴմϴ�.\n"
          ]
        }
      ],
      "metadata": {
        "colab": {
          "base_uri": "https://localhost:8080/"
        },
        "id": "KJDe804wyy4L",
        "outputId": "b2766e24-87e2-4c64-d841-249e908f9771"
      }
    },
    {
      "cell_type": "code",
      "execution_count": 5,
      "source": [
        "# url 모음\r\n",
        "google_url = 'https://www.google.com/search'\r\n",
        "naver_url = 'https://search.naver.com/search.naver'"
      ],
      "outputs": [],
      "metadata": {
        "id": "6iJEY-z4tedi"
      }
    },
    {
      "cell_type": "code",
      "execution_count": 6,
      "source": [
        "import requests as req\r\n",
        "import  urllib.request as urlreq\r\n",
        "import time\r\n",
        "import os\r\n",
        "from tkinter import messagebox\r\n",
        "import tkinter\r\n",
        "from PIL import ImageTk\r\n",
        "from bs4 import BeautifulSoup as bs\r\n",
        "from selenium import webdriver as wb\r\n",
        "from selenium.webdriver.common.keys import Keys\r\n",
        "from warnings import filterwarnings\r\n",
        "import warnings\r\n",
        "\r\n",
        "class Web_crawling:\r\n",
        "    def __init__(self, url, command, img_count, path):\r\n",
        "        self.normal_url = url\r\n",
        "        self.url = self.normal_url\r\n",
        "        self.img_count = img_count\r\n",
        "        self.command = command\r\n",
        "        self.path = str(path).replace(\"\\\\\",\"/\")\r\n",
        "        self.url_list = [ 'Google', 'Naver']\r\n",
        "        filterwarnings('ignore')\r\n",
        "    \r\n",
        "    def action(self):\r\n",
        "        # download_path = './Downloads'\r\n",
        "        self.get_url()\r\n",
        "        if  self.normal_url == 'Google':\r\n",
        "            self.google_save_img()\r\n",
        "        elif self.normal_url == 'Naver':\r\n",
        "            self.naver_save_img()\r\n",
        "\r\n",
        "\r\n",
        "\r\n",
        "        # 링크 미입력시\r\n",
        "        # if self.url == '':\r\n",
        "        #     print('[오류] 링크를 입력해주세요.\\n')\r\n",
        "        #     messagebox.showwarning(\"유튜브 다운로드 프로그램\", \"링크를 입력해주세요.\")\r\n",
        "        \r\n",
        "        # 링크 입력시\r\n",
        "        # else:\r\n",
        "        #     Wc = Web_crawling()\r\n",
        "        #     # 폴더 생성 함수 호출\r\n",
        "        #     Wc.createFolder(download_path)\r\n",
        "        #     # 유튜브 동영상 다운로드 함수 호출\r\n",
        "        #     Wc.youtube_download(self.url)\r\n",
        "\r\n",
        "    def get_url(self):\r\n",
        "        self.chorm_options()\r\n",
        "        print(self.url)\r\n",
        "        if self.url in self.url_list:\r\n",
        "            if self.url == 'Google':\r\n",
        "                self.google_button()\r\n",
        "                print(self.url)\r\n",
        "                self.driver\r\n",
        "            elif self.url == 'Naver':\r\n",
        "                self.naver_button()\r\n",
        "                print(self.url)\r\n",
        "            self.driver.get(self.url)\r\n",
        "            self.scroll_down()\r\n",
        "            time.sleep(0.5)\r\n",
        "        else:\r\n",
        "            print(\"아직 서비스되지 않는 url입니다.\")\r\n",
        "    \r\n",
        "    def google_button(self):\r\n",
        "        self.url = 'https://www.google.com/search?q='+ str(self.command) + '&source=lnms&tbm=isch&sa=X&ved=2ahUKEwjgwPKzqtXuAhWW62EKHRjtBvcQ_AUoAXoECBEQAw&biw=768&bih=712'\r\n",
        "\r\n",
        "    def naver_button(self):\r\n",
        "        self.url = 'https://search.naver.com/search.naver?where=image&sm=tab_jum&query='+ str(self.command)\r\n",
        "\r\n",
        "    def chorm_options(self):\r\n",
        "        chrome_options = wb.ChromeOptions()\r\n",
        "        chrome_options.add_argument('--headless') #내부 창을 띄울 수 없으므로 설정\r\n",
        "        chrome_options.add_argument('--no-sandbox')\r\n",
        "        chrome_options.add_argument('--disable-dev-shm-usage')\r\n",
        "\r\n",
        "        self.driver = wb.Chrome('C:/Users/SeoMinJong/Downloads/chromedriver_win32/chromedriver.exe')\r\n",
        "\r\n",
        "    def scroll_down(self):\r\n",
        "        self.driver.save_screenshot(('C:/craling_test/scroll_down_start_page_test.png'))\r\n",
        "        scrollcount = self.img_count // 8\r\n",
        "        for i in range(scrollcount+1):\r\n",
        "            self.driver.find_element_by_tag_name('body').send_keys(Keys.PAGE_DOWN)\r\n",
        "            time.sleep(0.1)\r\n",
        "        self.driver.save_screenshot('C:/craling_test/scroll_down_test.png')\r\n",
        "\r\n",
        "\r\n",
        "    def naver_save_img(self):\r\n",
        "    #     try:\r\n",
        "        soup = bs(self.driver.page_source,'html.parser')\r\n",
        "        image_url = soup.findAll(\"img\", {'class' : '_image _listImage'})\r\n",
        "        self.img_limit = len(image_url)\r\n",
        "        print(\"img_count, img_limit :\",self.img_count,self.img_limit)\r\n",
        "        if self.img_count >= self.img_limit:\r\n",
        "            for i in range(self.img_limit):\r\n",
        "                image_url_src = image_url[i].attrs['src']\r\n",
        "                time.sleep(0.05)\r\n",
        "                urlreq.urlretrieve(image_url_src, (str(self.path) + \"/\" + 'Naver_' + str(self.command) + str(i) + \".png\"))\r\n",
        "        else:\r\n",
        "            for i in range(self.img_count):\r\n",
        "                image_url_src = image_url[i].attrs['src']\r\n",
        "                time.sleep(0.05)\r\n",
        "                urlreq.urlretrieve(image_url_src, (str(self.path) + \"/\" + 'Naver_' + str(self.command) + str(i) + \".png\"))\r\n",
        "        # self.driver.close()\r\n",
        "\r\n",
        "    def google_save_img(self):\r\n",
        "    #     try:\r\n",
        "        soup = bs(self.driver.page_source,'html.parser')\r\n",
        "        image_url = soup.findAll(\"img\", {'class' : 'rg_i Q4LuWd'})\r\n",
        "        self.img_limit = len(image_url)\r\n",
        "        print(\"img_count, img_limit :\",self.img_count,self.img_limit)\r\n",
        "        if self.img_count >= self.img_limit:\r\n",
        "            for i in range(self.img_limit):\r\n",
        "                image_url_src = image_url[i].attrs['src']\r\n",
        "                urlreq.urlretrieve(image_url_src, (str(self.path) + \"/\" + \"google_\" +str(self.command) + str(i) + \".png\"))\r\n",
        "        else:\r\n",
        "            for i in range(self.img_count):\r\n",
        "                image_url_src = image_url[i].attrs['src']\r\n",
        "                time.sleep(0.1)\r\n",
        "                urlreq.urlretrieve(image_url_src, (str(self.path) + \"/\" + \"google_\" + str(self.command) + str(i) + \".png\"))\r\n",
        "        # self.driver.close()\r\n",
        "        # except:   \r\n",
        "        #     self.driver.close()\r\n",
        "\r\n",
        "    def tkinter_start(self):\r\n",
        "        window = tkinter.Tk()\r\n",
        "        window.title(\"사진 검색 다운로드 엔진\")\r\n",
        "        window.geometry(\"600x400+450+200\")\r\n",
        "        window.resizable(False,False)\r\n",
        "\r\n",
        "        "
      ],
      "outputs": [],
      "metadata": {
        "id": "R1WLb3hPxVCT"
      }
    },
    {
      "cell_type": "code",
      "execution_count": 7,
      "source": [
        "# Wc = Web_crawling('Naver','로스트아크',300, 'C:\\craling_test')\r\n",
        "# Wc.action()"
      ],
      "outputs": [],
      "metadata": {
        "colab": {
          "base_uri": "https://localhost:8080/",
          "height": 439
        },
        "id": "Zi1NmNyp1OTq",
        "outputId": "558c8f50-fdc4-4e19-8153-ae492a42c927"
      }
    },
    {
      "cell_type": "code",
      "execution_count": 8,
      "source": [
        "# tkinter._test()"
      ],
      "outputs": [],
      "metadata": {}
    },
    {
      "cell_type": "code",
      "execution_count": 103,
      "source": [
        "window = tkinter.Tk()\r\n",
        "\r\n",
        "window.title(\"사진 검색 다운로드 엔진\")\r\n",
        "window.geometry(\"640x400+450+200\")\r\n",
        "window.resizable(False,False)\r\n",
        "\r\n",
        "label = tkinter.Label(window, text=\"사진 검색 다운로드 프로그램을 이용해주셔서 감사합니다\", height=10, width=50, relief='groove', bd=5, fg='dimgray')\r\n",
        "naver_img = tkinter.PhotoImage(file='C:/Users/SeoMinJong/Pictures/naver.png')\r\n",
        "label1 = tkinter.Label(window, height=20, width=20, image=naver_img)\r\n",
        "\r\n",
        "# label2 = tkinter.Label(window, text=\"다른 사진도 간편하게 수집해보세요\")\r\n",
        "\r\n",
        "label.pack()\r\n",
        "label1.pack()"
      ],
      "outputs": [
        {
          "output_type": "error",
          "ename": "TclError",
          "evalue": "couldn't recognize data in image file \"C:/Users/SeoMinJong/Pictures/naver.png\"",
          "traceback": [
            "\u001b[1;31m---------------------------------------------------------------------------\u001b[0m",
            "\u001b[1;31mTclError\u001b[0m                                  Traceback (most recent call last)",
            "\u001b[1;32m<ipython-input-103-1e93deea01d4>\u001b[0m in \u001b[0;36m<module>\u001b[1;34m\u001b[0m\n\u001b[0;32m      6\u001b[0m \u001b[1;33m\u001b[0m\u001b[0m\n\u001b[0;32m      7\u001b[0m \u001b[0mlabel\u001b[0m \u001b[1;33m=\u001b[0m \u001b[0mtkinter\u001b[0m\u001b[1;33m.\u001b[0m\u001b[0mLabel\u001b[0m\u001b[1;33m(\u001b[0m\u001b[0mwindow\u001b[0m\u001b[1;33m,\u001b[0m \u001b[0mtext\u001b[0m\u001b[1;33m=\u001b[0m\u001b[1;34m\"사진 검색 다운로드 프로그램을 이용해주셔서 감사합니다\"\u001b[0m\u001b[1;33m,\u001b[0m \u001b[0mheight\u001b[0m\u001b[1;33m=\u001b[0m\u001b[1;36m10\u001b[0m\u001b[1;33m,\u001b[0m \u001b[0mwidth\u001b[0m\u001b[1;33m=\u001b[0m\u001b[1;36m50\u001b[0m\u001b[1;33m,\u001b[0m \u001b[0mrelief\u001b[0m\u001b[1;33m=\u001b[0m\u001b[1;34m'groove'\u001b[0m\u001b[1;33m,\u001b[0m \u001b[0mbd\u001b[0m\u001b[1;33m=\u001b[0m\u001b[1;36m5\u001b[0m\u001b[1;33m,\u001b[0m \u001b[0mfg\u001b[0m\u001b[1;33m=\u001b[0m\u001b[1;34m'dimgray'\u001b[0m\u001b[1;33m)\u001b[0m\u001b[1;33m\u001b[0m\u001b[1;33m\u001b[0m\u001b[0m\n\u001b[1;32m----> 8\u001b[1;33m \u001b[0mnaver_img\u001b[0m \u001b[1;33m=\u001b[0m \u001b[0mtkinter\u001b[0m\u001b[1;33m.\u001b[0m\u001b[0mPhotoImage\u001b[0m\u001b[1;33m(\u001b[0m\u001b[0mfile\u001b[0m\u001b[1;33m=\u001b[0m\u001b[1;34m'C:/Users/SeoMinJong/Pictures/naver.png'\u001b[0m\u001b[1;33m)\u001b[0m\u001b[1;33m\u001b[0m\u001b[1;33m\u001b[0m\u001b[0m\n\u001b[0m\u001b[0;32m      9\u001b[0m \u001b[0mlabel1\u001b[0m \u001b[1;33m=\u001b[0m \u001b[0mtkinter\u001b[0m\u001b[1;33m.\u001b[0m\u001b[0mLabel\u001b[0m\u001b[1;33m(\u001b[0m\u001b[0mwindow\u001b[0m\u001b[1;33m,\u001b[0m \u001b[0mheight\u001b[0m\u001b[1;33m=\u001b[0m\u001b[1;36m20\u001b[0m\u001b[1;33m,\u001b[0m \u001b[0mwidth\u001b[0m\u001b[1;33m=\u001b[0m\u001b[1;36m20\u001b[0m\u001b[1;33m,\u001b[0m \u001b[0mimage\u001b[0m\u001b[1;33m=\u001b[0m\u001b[0mnaver_img\u001b[0m\u001b[1;33m)\u001b[0m\u001b[1;33m\u001b[0m\u001b[1;33m\u001b[0m\u001b[0m\n\u001b[0;32m     10\u001b[0m \u001b[1;33m\u001b[0m\u001b[0m\n",
            "\u001b[1;32m~\\Anaconda3\\envs\\AI\\lib\\tkinter\\__init__.py\u001b[0m in \u001b[0;36m__init__\u001b[1;34m(self, name, cnf, master, **kw)\u001b[0m\n\u001b[0;32m   4062\u001b[0m         \u001b[0mValid\u001b[0m \u001b[0mresource\u001b[0m \u001b[0mnames\u001b[0m\u001b[1;33m:\u001b[0m \u001b[0mdata\u001b[0m\u001b[1;33m,\u001b[0m \u001b[0mformat\u001b[0m\u001b[1;33m,\u001b[0m \u001b[0mfile\u001b[0m\u001b[1;33m,\u001b[0m \u001b[0mgamma\u001b[0m\u001b[1;33m,\u001b[0m \u001b[0mheight\u001b[0m\u001b[1;33m,\u001b[0m \u001b[0mpalette\u001b[0m\u001b[1;33m,\u001b[0m\u001b[1;33m\u001b[0m\u001b[1;33m\u001b[0m\u001b[0m\n\u001b[0;32m   4063\u001b[0m         width.\"\"\"\n\u001b[1;32m-> 4064\u001b[1;33m         \u001b[0mImage\u001b[0m\u001b[1;33m.\u001b[0m\u001b[0m__init__\u001b[0m\u001b[1;33m(\u001b[0m\u001b[0mself\u001b[0m\u001b[1;33m,\u001b[0m \u001b[1;34m'photo'\u001b[0m\u001b[1;33m,\u001b[0m \u001b[0mname\u001b[0m\u001b[1;33m,\u001b[0m \u001b[0mcnf\u001b[0m\u001b[1;33m,\u001b[0m \u001b[0mmaster\u001b[0m\u001b[1;33m,\u001b[0m \u001b[1;33m**\u001b[0m\u001b[0mkw\u001b[0m\u001b[1;33m)\u001b[0m\u001b[1;33m\u001b[0m\u001b[1;33m\u001b[0m\u001b[0m\n\u001b[0m\u001b[0;32m   4065\u001b[0m \u001b[1;33m\u001b[0m\u001b[0m\n\u001b[0;32m   4066\u001b[0m     \u001b[1;32mdef\u001b[0m \u001b[0mblank\u001b[0m\u001b[1;33m(\u001b[0m\u001b[0mself\u001b[0m\u001b[1;33m)\u001b[0m\u001b[1;33m:\u001b[0m\u001b[1;33m\u001b[0m\u001b[1;33m\u001b[0m\u001b[0m\n",
            "\u001b[1;32m~\\Anaconda3\\envs\\AI\\lib\\tkinter\\__init__.py\u001b[0m in \u001b[0;36m__init__\u001b[1;34m(self, imgtype, name, cnf, master, **kw)\u001b[0m\n\u001b[0;32m   4007\u001b[0m                 \u001b[0mv\u001b[0m \u001b[1;33m=\u001b[0m \u001b[0mself\u001b[0m\u001b[1;33m.\u001b[0m\u001b[0m_register\u001b[0m\u001b[1;33m(\u001b[0m\u001b[0mv\u001b[0m\u001b[1;33m)\u001b[0m\u001b[1;33m\u001b[0m\u001b[1;33m\u001b[0m\u001b[0m\n\u001b[0;32m   4008\u001b[0m             \u001b[0moptions\u001b[0m \u001b[1;33m=\u001b[0m \u001b[0moptions\u001b[0m \u001b[1;33m+\u001b[0m \u001b[1;33m(\u001b[0m\u001b[1;34m'-'\u001b[0m\u001b[1;33m+\u001b[0m\u001b[0mk\u001b[0m\u001b[1;33m,\u001b[0m \u001b[0mv\u001b[0m\u001b[1;33m)\u001b[0m\u001b[1;33m\u001b[0m\u001b[1;33m\u001b[0m\u001b[0m\n\u001b[1;32m-> 4009\u001b[1;33m         \u001b[0mself\u001b[0m\u001b[1;33m.\u001b[0m\u001b[0mtk\u001b[0m\u001b[1;33m.\u001b[0m\u001b[0mcall\u001b[0m\u001b[1;33m(\u001b[0m\u001b[1;33m(\u001b[0m\u001b[1;34m'image'\u001b[0m\u001b[1;33m,\u001b[0m \u001b[1;34m'create'\u001b[0m\u001b[1;33m,\u001b[0m \u001b[0mimgtype\u001b[0m\u001b[1;33m,\u001b[0m \u001b[0mname\u001b[0m\u001b[1;33m,\u001b[0m\u001b[1;33m)\u001b[0m \u001b[1;33m+\u001b[0m \u001b[0moptions\u001b[0m\u001b[1;33m)\u001b[0m\u001b[1;33m\u001b[0m\u001b[1;33m\u001b[0m\u001b[0m\n\u001b[0m\u001b[0;32m   4010\u001b[0m         \u001b[0mself\u001b[0m\u001b[1;33m.\u001b[0m\u001b[0mname\u001b[0m \u001b[1;33m=\u001b[0m \u001b[0mname\u001b[0m\u001b[1;33m\u001b[0m\u001b[1;33m\u001b[0m\u001b[0m\n\u001b[0;32m   4011\u001b[0m \u001b[1;33m\u001b[0m\u001b[0m\n",
            "\u001b[1;31mTclError\u001b[0m: couldn't recognize data in image file \"C:/Users/SeoMinJong/Pictures/naver.png\""
          ]
        }
      ],
      "metadata": {}
    },
    {
      "cell_type": "code",
      "execution_count": 83,
      "source": [
        "window.mainloop()"
      ],
      "outputs": [],
      "metadata": {}
    },
    {
      "cell_type": "code",
      "execution_count": 97,
      "source": [
        "!cd C:\\Users\\SeoMinJong\\Pictures"
      ],
      "outputs": [],
      "metadata": {}
    },
    {
      "cell_type": "code",
      "execution_count": 98,
      "source": [
        "!cmd"
      ],
      "outputs": [
        {
          "output_type": "stream",
          "name": "stdout",
          "text": [
            "^C\n"
          ]
        }
      ],
      "metadata": {}
    }
  ]
}