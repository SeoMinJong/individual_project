{
  "nbformat": 4,
  "nbformat_minor": 0,
  "metadata": {
    "colab": {
      "name": "웹 크롤링을 진짜 쉽게 하게 하고싶다.ipynb",
      "provenance": [],
      "collapsed_sections": [],
      "mount_file_id": "1sA9D8x1E_42MLLnz9D-XPEAVYKzSGXdi",
      "authorship_tag": "ABX9TyNeS20AacgEsXlg6/4psBB2",
      "include_colab_link": true
    },
    "kernelspec": {
      "name": "python3",
      "display_name": "Python 3"
    },
    "language_info": {
      "name": "python"
    }
  },
  "cells": [
    {
      "cell_type": "markdown",
      "metadata": {
        "id": "view-in-github",
        "colab_type": "text"
      },
      "source": [
        "<a href=\"https://colab.research.google.com/github/SeoMinJong/individual_project/blob/main/%EC%9B%B9_%ED%81%AC%EB%A1%A4%EB%A7%81%EC%9D%84_%EC%A7%84%EC%A7%9C_%EC%89%BD%EA%B2%8C_%ED%95%98%EA%B2%8C_%ED%95%98%EA%B3%A0%EC%8B%B6%EB%8B%A4.ipynb\" target=\"_parent\"><img src=\"https://colab.research.google.com/assets/colab-badge.svg\" alt=\"Open In Colab\"/></a>"
      ]
    },
    {
      "cell_type": "code",
      "metadata": {
        "id": "Rn2jbXjnmRll"
      },
      "source": [
        "# 솔직히 웹 크롤링 좋은거 같은데 일반인은 고사하고 초보자조차도 활용하기 진짜 뒤지게 어렵다.\n",
        "# 그러면 이렇게 어려운 웹 크롤링 근데 좋은건 다 알잖음 그러면 쉽게만 만들면 어때?\n",
        "# 이미 크롤링 프로그램 많지 근데 한국에 특화된게 있나? 그것도 일반인이 검색만 하면 쭉 긁어오게해주는 프로그램 있나?\n",
        "# 그러면 만들 의미는 충분한거 같다."
      ],
      "execution_count": 1,
      "outputs": []
    },
    {
      "cell_type": "code",
      "metadata": {
        "colab": {
          "base_uri": "https://localhost:8080/"
        },
        "id": "hFCi8Cfds9cc",
        "outputId": "0a0ba3ff-6f67-42da-d819-75c9c3e78fb0"
      },
      "source": [
        "!pip install Selenium\n",
        "!apt-get update # to update ubuntu to correctly run apt install\n",
        "!apt install chromium-chromedriver"
      ],
      "execution_count": 2,
      "outputs": [
        {
          "output_type": "stream",
          "text": [
            "Collecting Selenium\n",
            "  Downloading selenium-3.141.0-py2.py3-none-any.whl (904 kB)\n",
            "\u001b[?25l\r\u001b[K     |▍                               | 10 kB 19.9 MB/s eta 0:00:01\r\u001b[K     |▊                               | 20 kB 23.7 MB/s eta 0:00:01\r\u001b[K     |█                               | 30 kB 12.3 MB/s eta 0:00:01\r\u001b[K     |█▌                              | 40 kB 9.5 MB/s eta 0:00:01\r\u001b[K     |█▉                              | 51 kB 5.1 MB/s eta 0:00:01\r\u001b[K     |██▏                             | 61 kB 5.3 MB/s eta 0:00:01\r\u001b[K     |██▌                             | 71 kB 5.6 MB/s eta 0:00:01\r\u001b[K     |███                             | 81 kB 6.3 MB/s eta 0:00:01\r\u001b[K     |███▎                            | 92 kB 6.4 MB/s eta 0:00:01\r\u001b[K     |███▋                            | 102 kB 5.3 MB/s eta 0:00:01\r\u001b[K     |████                            | 112 kB 5.3 MB/s eta 0:00:01\r\u001b[K     |████▍                           | 122 kB 5.3 MB/s eta 0:00:01\r\u001b[K     |████▊                           | 133 kB 5.3 MB/s eta 0:00:01\r\u001b[K     |█████                           | 143 kB 5.3 MB/s eta 0:00:01\r\u001b[K     |█████▍                          | 153 kB 5.3 MB/s eta 0:00:01\r\u001b[K     |█████▉                          | 163 kB 5.3 MB/s eta 0:00:01\r\u001b[K     |██████▏                         | 174 kB 5.3 MB/s eta 0:00:01\r\u001b[K     |██████▌                         | 184 kB 5.3 MB/s eta 0:00:01\r\u001b[K     |██████▉                         | 194 kB 5.3 MB/s eta 0:00:01\r\u001b[K     |███████▎                        | 204 kB 5.3 MB/s eta 0:00:01\r\u001b[K     |███████▋                        | 215 kB 5.3 MB/s eta 0:00:01\r\u001b[K     |████████                        | 225 kB 5.3 MB/s eta 0:00:01\r\u001b[K     |████████▎                       | 235 kB 5.3 MB/s eta 0:00:01\r\u001b[K     |████████▊                       | 245 kB 5.3 MB/s eta 0:00:01\r\u001b[K     |█████████                       | 256 kB 5.3 MB/s eta 0:00:01\r\u001b[K     |█████████▍                      | 266 kB 5.3 MB/s eta 0:00:01\r\u001b[K     |█████████▉                      | 276 kB 5.3 MB/s eta 0:00:01\r\u001b[K     |██████████▏                     | 286 kB 5.3 MB/s eta 0:00:01\r\u001b[K     |██████████▌                     | 296 kB 5.3 MB/s eta 0:00:01\r\u001b[K     |██████████▉                     | 307 kB 5.3 MB/s eta 0:00:01\r\u001b[K     |███████████▎                    | 317 kB 5.3 MB/s eta 0:00:01\r\u001b[K     |███████████▋                    | 327 kB 5.3 MB/s eta 0:00:01\r\u001b[K     |████████████                    | 337 kB 5.3 MB/s eta 0:00:01\r\u001b[K     |████████████▎                   | 348 kB 5.3 MB/s eta 0:00:01\r\u001b[K     |████████████▊                   | 358 kB 5.3 MB/s eta 0:00:01\r\u001b[K     |█████████████                   | 368 kB 5.3 MB/s eta 0:00:01\r\u001b[K     |█████████████▍                  | 378 kB 5.3 MB/s eta 0:00:01\r\u001b[K     |█████████████▊                  | 389 kB 5.3 MB/s eta 0:00:01\r\u001b[K     |██████████████▏                 | 399 kB 5.3 MB/s eta 0:00:01\r\u001b[K     |██████████████▌                 | 409 kB 5.3 MB/s eta 0:00:01\r\u001b[K     |██████████████▉                 | 419 kB 5.3 MB/s eta 0:00:01\r\u001b[K     |███████████████▏                | 430 kB 5.3 MB/s eta 0:00:01\r\u001b[K     |███████████████▋                | 440 kB 5.3 MB/s eta 0:00:01\r\u001b[K     |████████████████                | 450 kB 5.3 MB/s eta 0:00:01\r\u001b[K     |████████████████▎               | 460 kB 5.3 MB/s eta 0:00:01\r\u001b[K     |████████████████▋               | 471 kB 5.3 MB/s eta 0:00:01\r\u001b[K     |█████████████████               | 481 kB 5.3 MB/s eta 0:00:01\r\u001b[K     |█████████████████▍              | 491 kB 5.3 MB/s eta 0:00:01\r\u001b[K     |█████████████████▊              | 501 kB 5.3 MB/s eta 0:00:01\r\u001b[K     |██████████████████▏             | 512 kB 5.3 MB/s eta 0:00:01\r\u001b[K     |██████████████████▌             | 522 kB 5.3 MB/s eta 0:00:01\r\u001b[K     |██████████████████▉             | 532 kB 5.3 MB/s eta 0:00:01\r\u001b[K     |███████████████████▏            | 542 kB 5.3 MB/s eta 0:00:01\r\u001b[K     |███████████████████▋            | 552 kB 5.3 MB/s eta 0:00:01\r\u001b[K     |████████████████████            | 563 kB 5.3 MB/s eta 0:00:01\r\u001b[K     |████████████████████▎           | 573 kB 5.3 MB/s eta 0:00:01\r\u001b[K     |████████████████████▋           | 583 kB 5.3 MB/s eta 0:00:01\r\u001b[K     |█████████████████████           | 593 kB 5.3 MB/s eta 0:00:01\r\u001b[K     |█████████████████████▍          | 604 kB 5.3 MB/s eta 0:00:01\r\u001b[K     |█████████████████████▊          | 614 kB 5.3 MB/s eta 0:00:01\r\u001b[K     |██████████████████████          | 624 kB 5.3 MB/s eta 0:00:01\r\u001b[K     |██████████████████████▌         | 634 kB 5.3 MB/s eta 0:00:01\r\u001b[K     |██████████████████████▉         | 645 kB 5.3 MB/s eta 0:00:01\r\u001b[K     |███████████████████████▏        | 655 kB 5.3 MB/s eta 0:00:01\r\u001b[K     |███████████████████████▌        | 665 kB 5.3 MB/s eta 0:00:01\r\u001b[K     |████████████████████████        | 675 kB 5.3 MB/s eta 0:00:01\r\u001b[K     |████████████████████████▎       | 686 kB 5.3 MB/s eta 0:00:01\r\u001b[K     |████████████████████████▋       | 696 kB 5.3 MB/s eta 0:00:01\r\u001b[K     |█████████████████████████       | 706 kB 5.3 MB/s eta 0:00:01\r\u001b[K     |█████████████████████████▍      | 716 kB 5.3 MB/s eta 0:00:01\r\u001b[K     |█████████████████████████▊      | 727 kB 5.3 MB/s eta 0:00:01\r\u001b[K     |██████████████████████████      | 737 kB 5.3 MB/s eta 0:00:01\r\u001b[K     |██████████████████████████▍     | 747 kB 5.3 MB/s eta 0:00:01\r\u001b[K     |██████████████████████████▉     | 757 kB 5.3 MB/s eta 0:00:01\r\u001b[K     |███████████████████████████▏    | 768 kB 5.3 MB/s eta 0:00:01\r\u001b[K     |███████████████████████████▌    | 778 kB 5.3 MB/s eta 0:00:01\r\u001b[K     |████████████████████████████    | 788 kB 5.3 MB/s eta 0:00:01\r\u001b[K     |████████████████████████████▎   | 798 kB 5.3 MB/s eta 0:00:01\r\u001b[K     |████████████████████████████▋   | 808 kB 5.3 MB/s eta 0:00:01\r\u001b[K     |█████████████████████████████   | 819 kB 5.3 MB/s eta 0:00:01\r\u001b[K     |█████████████████████████████▍  | 829 kB 5.3 MB/s eta 0:00:01\r\u001b[K     |█████████████████████████████▊  | 839 kB 5.3 MB/s eta 0:00:01\r\u001b[K     |██████████████████████████████  | 849 kB 5.3 MB/s eta 0:00:01\r\u001b[K     |██████████████████████████████▍ | 860 kB 5.3 MB/s eta 0:00:01\r\u001b[K     |██████████████████████████████▉ | 870 kB 5.3 MB/s eta 0:00:01\r\u001b[K     |███████████████████████████████▏| 880 kB 5.3 MB/s eta 0:00:01\r\u001b[K     |███████████████████████████████▌| 890 kB 5.3 MB/s eta 0:00:01\r\u001b[K     |███████████████████████████████▉| 901 kB 5.3 MB/s eta 0:00:01\r\u001b[K     |████████████████████████████████| 904 kB 5.3 MB/s \n",
            "\u001b[?25hRequirement already satisfied: urllib3 in /usr/local/lib/python3.7/dist-packages (from Selenium) (1.24.3)\n",
            "Installing collected packages: Selenium\n",
            "Successfully installed Selenium-3.141.0\n",
            "Get:1 http://security.ubuntu.com/ubuntu bionic-security InRelease [88.7 kB]\n",
            "Get:2 https://cloud.r-project.org/bin/linux/ubuntu bionic-cran40/ InRelease [3,626 B]\n",
            "Ign:3 https://developer.download.nvidia.com/compute/cuda/repos/ubuntu1804/x86_64  InRelease\n",
            "Ign:4 https://developer.download.nvidia.com/compute/machine-learning/repos/ubuntu1804/x86_64  InRelease\n",
            "Get:5 http://ppa.launchpad.net/c2d4u.team/c2d4u4.0+/ubuntu bionic InRelease [15.9 kB]\n",
            "Get:6 https://developer.download.nvidia.com/compute/cuda/repos/ubuntu1804/x86_64  Release [697 B]\n",
            "Hit:7 https://developer.download.nvidia.com/compute/machine-learning/repos/ubuntu1804/x86_64  Release\n",
            "Hit:8 http://archive.ubuntu.com/ubuntu bionic InRelease\n",
            "Get:9 https://developer.download.nvidia.com/compute/cuda/repos/ubuntu1804/x86_64  Release.gpg [836 B]\n",
            "Get:10 http://archive.ubuntu.com/ubuntu bionic-updates InRelease [88.7 kB]\n",
            "Hit:11 http://ppa.launchpad.net/cran/libgit2/ubuntu bionic InRelease\n",
            "Get:12 http://security.ubuntu.com/ubuntu bionic-security/universe amd64 Packages [1,420 kB]\n",
            "Hit:13 http://ppa.launchpad.net/deadsnakes/ppa/ubuntu bionic InRelease\n",
            "Get:14 http://archive.ubuntu.com/ubuntu bionic-backports InRelease [74.6 kB]\n",
            "Get:15 http://security.ubuntu.com/ubuntu bionic-security/restricted amd64 Packages [505 kB]\n",
            "Get:17 http://security.ubuntu.com/ubuntu bionic-security/main amd64 Packages [2,258 kB]\n",
            "Get:18 http://ppa.launchpad.net/graphics-drivers/ppa/ubuntu bionic InRelease [21.3 kB]\n",
            "Get:19 http://security.ubuntu.com/ubuntu bionic-security/multiverse amd64 Packages [26.7 kB]\n",
            "Ign:20 https://developer.download.nvidia.com/compute/cuda/repos/ubuntu1804/x86_64  Packages\n",
            "Get:20 https://developer.download.nvidia.com/compute/cuda/repos/ubuntu1804/x86_64  Packages [680 kB]\n",
            "Get:21 http://ppa.launchpad.net/c2d4u.team/c2d4u4.0+/ubuntu bionic/main Sources [1,786 kB]\n",
            "Get:22 http://archive.ubuntu.com/ubuntu bionic-updates/main amd64 Packages [2,694 kB]\n",
            "Get:23 http://ppa.launchpad.net/c2d4u.team/c2d4u4.0+/ubuntu bionic/main amd64 Packages [914 kB]\n",
            "Get:24 http://archive.ubuntu.com/ubuntu bionic-updates/restricted amd64 Packages [537 kB]\n",
            "Get:25 http://archive.ubuntu.com/ubuntu bionic-updates/multiverse amd64 Packages [33.6 kB]\n",
            "Get:26 http://archive.ubuntu.com/ubuntu bionic-updates/universe amd64 Packages [2,194 kB]\n",
            "Get:27 http://ppa.launchpad.net/graphics-drivers/ppa/ubuntu bionic/main amd64 Packages [44.1 kB]\n",
            "Fetched 13.4 MB in 4s (3,423 kB/s)\n",
            "Reading package lists... Done\n",
            "Reading package lists... Done\n",
            "Building dependency tree       \n",
            "Reading state information... Done\n",
            "The following additional packages will be installed:\n",
            "  chromium-browser chromium-browser-l10n chromium-codecs-ffmpeg-extra\n",
            "Suggested packages:\n",
            "  webaccounts-chromium-extension unity-chromium-extension\n",
            "The following NEW packages will be installed:\n",
            "  chromium-browser chromium-browser-l10n chromium-chromedriver\n",
            "  chromium-codecs-ffmpeg-extra\n",
            "0 upgraded, 4 newly installed, 0 to remove and 93 not upgraded.\n",
            "Need to get 86.0 MB of archives.\n",
            "After this operation, 298 MB of additional disk space will be used.\n",
            "Get:1 http://archive.ubuntu.com/ubuntu bionic-updates/universe amd64 chromium-codecs-ffmpeg-extra amd64 91.0.4472.101-0ubuntu0.18.04.1 [1,124 kB]\n",
            "Get:2 http://archive.ubuntu.com/ubuntu bionic-updates/universe amd64 chromium-browser amd64 91.0.4472.101-0ubuntu0.18.04.1 [76.1 MB]\n",
            "Get:3 http://archive.ubuntu.com/ubuntu bionic-updates/universe amd64 chromium-browser-l10n all 91.0.4472.101-0ubuntu0.18.04.1 [3,937 kB]\n",
            "Get:4 http://archive.ubuntu.com/ubuntu bionic-updates/universe amd64 chromium-chromedriver amd64 91.0.4472.101-0ubuntu0.18.04.1 [4,837 kB]\n",
            "Fetched 86.0 MB in 5s (18.9 MB/s)\n",
            "Selecting previously unselected package chromium-codecs-ffmpeg-extra.\n",
            "(Reading database ... 160837 files and directories currently installed.)\n",
            "Preparing to unpack .../chromium-codecs-ffmpeg-extra_91.0.4472.101-0ubuntu0.18.04.1_amd64.deb ...\n",
            "Unpacking chromium-codecs-ffmpeg-extra (91.0.4472.101-0ubuntu0.18.04.1) ...\n",
            "Selecting previously unselected package chromium-browser.\n",
            "Preparing to unpack .../chromium-browser_91.0.4472.101-0ubuntu0.18.04.1_amd64.deb ...\n",
            "Unpacking chromium-browser (91.0.4472.101-0ubuntu0.18.04.1) ...\n",
            "Selecting previously unselected package chromium-browser-l10n.\n",
            "Preparing to unpack .../chromium-browser-l10n_91.0.4472.101-0ubuntu0.18.04.1_all.deb ...\n",
            "Unpacking chromium-browser-l10n (91.0.4472.101-0ubuntu0.18.04.1) ...\n",
            "Selecting previously unselected package chromium-chromedriver.\n",
            "Preparing to unpack .../chromium-chromedriver_91.0.4472.101-0ubuntu0.18.04.1_amd64.deb ...\n",
            "Unpacking chromium-chromedriver (91.0.4472.101-0ubuntu0.18.04.1) ...\n",
            "Setting up chromium-codecs-ffmpeg-extra (91.0.4472.101-0ubuntu0.18.04.1) ...\n",
            "Setting up chromium-browser (91.0.4472.101-0ubuntu0.18.04.1) ...\n",
            "update-alternatives: using /usr/bin/chromium-browser to provide /usr/bin/x-www-browser (x-www-browser) in auto mode\n",
            "update-alternatives: using /usr/bin/chromium-browser to provide /usr/bin/gnome-www-browser (gnome-www-browser) in auto mode\n",
            "Setting up chromium-chromedriver (91.0.4472.101-0ubuntu0.18.04.1) ...\n",
            "Setting up chromium-browser-l10n (91.0.4472.101-0ubuntu0.18.04.1) ...\n",
            "Processing triggers for man-db (2.8.3-2ubuntu0.1) ...\n",
            "Processing triggers for hicolor-icon-theme (0.17-2) ...\n",
            "Processing triggers for mime-support (3.60ubuntu1) ...\n",
            "Processing triggers for libc-bin (2.27-3ubuntu1.2) ...\n",
            "/sbin/ldconfig.real: /usr/local/lib/python3.7/dist-packages/ideep4py/lib/libmkldnn.so.0 is not a symbolic link\n",
            "\n"
          ],
          "name": "stdout"
        }
      ]
    },
    {
      "cell_type": "code",
      "metadata": {
        "colab": {
          "base_uri": "https://localhost:8080/"
        },
        "id": "KJDe804wyy4L",
        "outputId": "b2766e24-87e2-4c64-d841-249e908f9771"
      },
      "source": [
        "# 한글 폰트 설치\n",
        "!apt-get install -y fonts-nanum*"
      ],
      "execution_count": 3,
      "outputs": [
        {
          "output_type": "stream",
          "text": [
            "Reading package lists... Done\n",
            "Building dependency tree       \n",
            "Reading state information... Done\n",
            "Note, selecting 'fonts-nanum-eco' for glob 'fonts-nanum*'\n",
            "Note, selecting 'fonts-nanum' for glob 'fonts-nanum*'\n",
            "Note, selecting 'fonts-nanum-gothic-light' for glob 'fonts-nanum*'\n",
            "Note, selecting 'fonts-nanum-coding' for glob 'fonts-nanum*'\n",
            "Note, selecting 'fonts-nanum-extra' for glob 'fonts-nanum*'\n",
            "The following NEW packages will be installed:\n",
            "  fonts-nanum fonts-nanum-coding fonts-nanum-eco fonts-nanum-extra\n",
            "0 upgraded, 4 newly installed, 0 to remove and 93 not upgraded.\n",
            "Need to get 37.0 MB of archives.\n",
            "After this operation, 145 MB of additional disk space will be used.\n",
            "Get:1 http://archive.ubuntu.com/ubuntu bionic/universe amd64 fonts-nanum all 20170925-1 [9,604 kB]\n",
            "Get:2 http://archive.ubuntu.com/ubuntu bionic/universe amd64 fonts-nanum-eco all 1.000-6 [14.0 MB]\n",
            "Get:3 http://archive.ubuntu.com/ubuntu bionic/universe amd64 fonts-nanum-extra all 20170925-1 [12.2 MB]\n",
            "Get:4 http://archive.ubuntu.com/ubuntu bionic/universe amd64 fonts-nanum-coding all 2.5-1 [1,083 kB]\n",
            "Fetched 37.0 MB in 3s (14.7 MB/s)\n",
            "Selecting previously unselected package fonts-nanum.\n",
            "(Reading database ... 161202 files and directories currently installed.)\n",
            "Preparing to unpack .../fonts-nanum_20170925-1_all.deb ...\n",
            "Unpacking fonts-nanum (20170925-1) ...\n",
            "Selecting previously unselected package fonts-nanum-eco.\n",
            "Preparing to unpack .../fonts-nanum-eco_1.000-6_all.deb ...\n",
            "Unpacking fonts-nanum-eco (1.000-6) ...\n",
            "Selecting previously unselected package fonts-nanum-extra.\n",
            "Preparing to unpack .../fonts-nanum-extra_20170925-1_all.deb ...\n",
            "Unpacking fonts-nanum-extra (20170925-1) ...\n",
            "Selecting previously unselected package fonts-nanum-coding.\n",
            "Preparing to unpack .../fonts-nanum-coding_2.5-1_all.deb ...\n",
            "Unpacking fonts-nanum-coding (2.5-1) ...\n",
            "Setting up fonts-nanum-extra (20170925-1) ...\n",
            "Setting up fonts-nanum (20170925-1) ...\n",
            "Setting up fonts-nanum-coding (2.5-1) ...\n",
            "Setting up fonts-nanum-eco (1.000-6) ...\n",
            "Processing triggers for fontconfig (2.12.6-0ubuntu2) ...\n"
          ],
          "name": "stdout"
        }
      ]
    },
    {
      "cell_type": "code",
      "metadata": {
        "id": "6iJEY-z4tedi"
      },
      "source": [
        "# url 모음\n",
        "google_url = 'https://www.google.com/search'\n",
        "naver_url = 'https://search.naver.com/search.naver'"
      ],
      "execution_count": 3,
      "outputs": []
    },
    {
      "cell_type": "code",
      "metadata": {
        "id": "R1WLb3hPxVCT"
      },
      "source": [
        "import requests as req\n",
        "import urllib.request\n",
        "import time\n",
        "import os\n",
        "from tkinter import messagebox\n",
        "from bs4 import BeautifulSoup as bs\n",
        "from selenium import webdriver as wb\n",
        "from selenium.webdriver.common.keys import Keys\n",
        "\n",
        "class Web_crawling:\n",
        "    def __init__(self, url, word, img_count):\n",
        "        self.normal_url = 'https://search.naver.com/search.naver?where=image&sm=tab_jum&query=' # 기본 url 설정\n",
        "        self.url = url\n",
        "        self.img_count = img_count\n",
        "        self.google_url = 'https://www.google.com/search?q='\n",
        "        self.naver_url = 'https://search.naver.com/search.naver?where=image&sm=tab_jum&query='\n",
        "        self.url_list = [ 'Google', 'Naver']\n",
        "    \n",
        "    def action(self):\n",
        "        download_path = './Downloads'\n",
        "        self.get_url()\n",
        "\n",
        "        # 링크 미입력시\n",
        "        # if self.url == '':\n",
        "        #     print('[오류] 링크를 입력해주세요.\\n')\n",
        "        #     messagebox.showwarning(\"유튜브 다운로드 프로그램\", \"링크를 입력해주세요.\")\n",
        "        \n",
        "        # 링크 입력시\n",
        "        # else:\n",
        "        #     Wc = Web_crawling()\n",
        "        #     # 폴더 생성 함수 호출\n",
        "        #     Wc.createFolder(download_path)\n",
        "        #     # 유튜브 동영상 다운로드 함수 호출\n",
        "        #     Wc.youtube_download(self.url)\n",
        "\n",
        "    def get_url(self):\n",
        "        print(self.url)\n",
        "        if self.url in self.url_list:\n",
        "            if self.url == self.google_url:\n",
        "                self.google_button()\n",
        "            elif self.url == self.naver_url:\n",
        "                self.naver_button()\n",
        "            print('5초를 기다려주세요')\n",
        "            time.sleep(2)\n",
        "            self.chorm_options()\n",
        "        else:\n",
        "            print(\"아직 서비스되지 않는 url입니다.\")\n",
        "    \n",
        "    def google_button(self):\n",
        "        self.url = 'https://www.google.com/search?q='\n",
        "\n",
        "    def naver_button(self):\n",
        "        self.url = 'https://search.naver.com/search.naver?where=image&sm=tab_jum&query='\n",
        "\n",
        "    def chorm_options(self):\n",
        "        chrome_options = wb.ChromeOptions()\n",
        "        chrome_options.add_argument('--headless') #내부 창을 띄울 수 없으므로 설정\n",
        "        chrome_options.add_argument('--no-sandbox')\n",
        "        chrome_options.add_argument('--disable-dev-shm-usage')\n",
        "\n",
        "        self.driver = wb.Chrome('chromedriver', chrome_options=chrome_options)\n",
        "\n",
        "\n",
        "\n",
        "    def down_scroll(self):\n",
        "        self.driver.get(self.url)\n",
        "        self.driver.save_screenshot('/content/drive/MyDrive/Colab Notebooks/web_crawling_image/screenshot.png')\n",
        "        \n",
        "    def save_img(self):\n",
        "        pass"
      ],
      "execution_count": 17,
      "outputs": []
    },
    {
      "cell_type": "code",
      "metadata": {
        "colab": {
          "base_uri": "https://localhost:8080/",
          "height": 439
        },
        "id": "Zi1NmNyp1OTq",
        "outputId": "558c8f50-fdc4-4e19-8153-ae492a42c927"
      },
      "source": [
        "Wc = Web_crawling('Naver','keyword',20)\n",
        "Wc.get_url()\n",
        "Wc.down_scroll()\n",
        "# print(Wc.url)"
      ],
      "execution_count": 16,
      "outputs": [
        {
          "output_type": "stream",
          "text": [
            "Naver\n",
            "5초를 기다려주세요\n"
          ],
          "name": "stdout"
        },
        {
          "output_type": "stream",
          "text": [
            "/usr/local/lib/python3.7/dist-packages/ipykernel_launcher.py:61: DeprecationWarning: use options instead of chrome_options\n"
          ],
          "name": "stderr"
        },
        {
          "output_type": "error",
          "ename": "InvalidArgumentException",
          "evalue": "ignored",
          "traceback": [
            "\u001b[0;31m---------------------------------------------------------------------------\u001b[0m",
            "\u001b[0;31mInvalidArgumentException\u001b[0m                  Traceback (most recent call last)",
            "\u001b[0;32m<ipython-input-16-8a9adf19952b>\u001b[0m in \u001b[0;36m<module>\u001b[0;34m()\u001b[0m\n\u001b[1;32m      1\u001b[0m \u001b[0mWc\u001b[0m \u001b[0;34m=\u001b[0m \u001b[0mWeb_crawling\u001b[0m\u001b[0;34m(\u001b[0m\u001b[0;34m'Naver'\u001b[0m\u001b[0;34m,\u001b[0m\u001b[0;34m'keyword'\u001b[0m\u001b[0;34m,\u001b[0m\u001b[0;36m20\u001b[0m\u001b[0;34m)\u001b[0m\u001b[0;34m\u001b[0m\u001b[0;34m\u001b[0m\u001b[0m\n\u001b[1;32m      2\u001b[0m \u001b[0mWc\u001b[0m\u001b[0;34m.\u001b[0m\u001b[0mget_url\u001b[0m\u001b[0;34m(\u001b[0m\u001b[0;34m)\u001b[0m\u001b[0;34m\u001b[0m\u001b[0;34m\u001b[0m\u001b[0m\n\u001b[0;32m----> 3\u001b[0;31m \u001b[0mWc\u001b[0m\u001b[0;34m.\u001b[0m\u001b[0mdown_scroll\u001b[0m\u001b[0;34m(\u001b[0m\u001b[0;34m)\u001b[0m\u001b[0;34m\u001b[0m\u001b[0;34m\u001b[0m\u001b[0m\n\u001b[0m\u001b[1;32m      4\u001b[0m \u001b[0;31m# print(Wc.url)\u001b[0m\u001b[0;34m\u001b[0m\u001b[0;34m\u001b[0m\u001b[0;34m\u001b[0m\u001b[0m\n",
            "\u001b[0;32m<ipython-input-15-245eac2dac36>\u001b[0m in \u001b[0;36mdown_scroll\u001b[0;34m(self)\u001b[0m\n\u001b[1;32m     64\u001b[0m \u001b[0;34m\u001b[0m\u001b[0m\n\u001b[1;32m     65\u001b[0m     \u001b[0;32mdef\u001b[0m \u001b[0mdown_scroll\u001b[0m\u001b[0;34m(\u001b[0m\u001b[0mself\u001b[0m\u001b[0;34m)\u001b[0m\u001b[0;34m:\u001b[0m\u001b[0;34m\u001b[0m\u001b[0;34m\u001b[0m\u001b[0m\n\u001b[0;32m---> 66\u001b[0;31m         \u001b[0mself\u001b[0m\u001b[0;34m.\u001b[0m\u001b[0mdriver\u001b[0m\u001b[0;34m.\u001b[0m\u001b[0mget\u001b[0m\u001b[0;34m(\u001b[0m\u001b[0mself\u001b[0m\u001b[0;34m.\u001b[0m\u001b[0murl\u001b[0m\u001b[0;34m)\u001b[0m\u001b[0;34m\u001b[0m\u001b[0;34m\u001b[0m\u001b[0m\n\u001b[0m\u001b[1;32m     67\u001b[0m         \u001b[0mself\u001b[0m\u001b[0;34m.\u001b[0m\u001b[0mdriver\u001b[0m\u001b[0;34m.\u001b[0m\u001b[0msave_screenshot\u001b[0m\u001b[0;34m(\u001b[0m\u001b[0;34m'/content/drive/MyDrive/Colab Notebooks/web_crawling_image/screenshot.png'\u001b[0m\u001b[0;34m)\u001b[0m\u001b[0;34m\u001b[0m\u001b[0;34m\u001b[0m\u001b[0m\n\u001b[1;32m     68\u001b[0m \u001b[0;34m\u001b[0m\u001b[0m\n",
            "\u001b[0;32m/usr/local/lib/python3.7/dist-packages/selenium/webdriver/remote/webdriver.py\u001b[0m in \u001b[0;36mget\u001b[0;34m(self, url)\u001b[0m\n\u001b[1;32m    331\u001b[0m         \u001b[0mLoads\u001b[0m \u001b[0ma\u001b[0m \u001b[0mweb\u001b[0m \u001b[0mpage\u001b[0m \u001b[0;32min\u001b[0m \u001b[0mthe\u001b[0m \u001b[0mcurrent\u001b[0m \u001b[0mbrowser\u001b[0m \u001b[0msession\u001b[0m\u001b[0;34m.\u001b[0m\u001b[0;34m\u001b[0m\u001b[0;34m\u001b[0m\u001b[0m\n\u001b[1;32m    332\u001b[0m         \"\"\"\n\u001b[0;32m--> 333\u001b[0;31m         \u001b[0mself\u001b[0m\u001b[0;34m.\u001b[0m\u001b[0mexecute\u001b[0m\u001b[0;34m(\u001b[0m\u001b[0mCommand\u001b[0m\u001b[0;34m.\u001b[0m\u001b[0mGET\u001b[0m\u001b[0;34m,\u001b[0m \u001b[0;34m{\u001b[0m\u001b[0;34m'url'\u001b[0m\u001b[0;34m:\u001b[0m \u001b[0murl\u001b[0m\u001b[0;34m}\u001b[0m\u001b[0;34m)\u001b[0m\u001b[0;34m\u001b[0m\u001b[0;34m\u001b[0m\u001b[0m\n\u001b[0m\u001b[1;32m    334\u001b[0m \u001b[0;34m\u001b[0m\u001b[0m\n\u001b[1;32m    335\u001b[0m     \u001b[0;34m@\u001b[0m\u001b[0mproperty\u001b[0m\u001b[0;34m\u001b[0m\u001b[0;34m\u001b[0m\u001b[0m\n",
            "\u001b[0;32m/usr/local/lib/python3.7/dist-packages/selenium/webdriver/remote/webdriver.py\u001b[0m in \u001b[0;36mexecute\u001b[0;34m(self, driver_command, params)\u001b[0m\n\u001b[1;32m    319\u001b[0m         \u001b[0mresponse\u001b[0m \u001b[0;34m=\u001b[0m \u001b[0mself\u001b[0m\u001b[0;34m.\u001b[0m\u001b[0mcommand_executor\u001b[0m\u001b[0;34m.\u001b[0m\u001b[0mexecute\u001b[0m\u001b[0;34m(\u001b[0m\u001b[0mdriver_command\u001b[0m\u001b[0;34m,\u001b[0m \u001b[0mparams\u001b[0m\u001b[0;34m)\u001b[0m\u001b[0;34m\u001b[0m\u001b[0;34m\u001b[0m\u001b[0m\n\u001b[1;32m    320\u001b[0m         \u001b[0;32mif\u001b[0m \u001b[0mresponse\u001b[0m\u001b[0;34m:\u001b[0m\u001b[0;34m\u001b[0m\u001b[0;34m\u001b[0m\u001b[0m\n\u001b[0;32m--> 321\u001b[0;31m             \u001b[0mself\u001b[0m\u001b[0;34m.\u001b[0m\u001b[0merror_handler\u001b[0m\u001b[0;34m.\u001b[0m\u001b[0mcheck_response\u001b[0m\u001b[0;34m(\u001b[0m\u001b[0mresponse\u001b[0m\u001b[0;34m)\u001b[0m\u001b[0;34m\u001b[0m\u001b[0;34m\u001b[0m\u001b[0m\n\u001b[0m\u001b[1;32m    322\u001b[0m             response['value'] = self._unwrap_value(\n\u001b[1;32m    323\u001b[0m                 response.get('value', None))\n",
            "\u001b[0;32m/usr/local/lib/python3.7/dist-packages/selenium/webdriver/remote/errorhandler.py\u001b[0m in \u001b[0;36mcheck_response\u001b[0;34m(self, response)\u001b[0m\n\u001b[1;32m    240\u001b[0m                 \u001b[0malert_text\u001b[0m \u001b[0;34m=\u001b[0m \u001b[0mvalue\u001b[0m\u001b[0;34m[\u001b[0m\u001b[0;34m'alert'\u001b[0m\u001b[0;34m]\u001b[0m\u001b[0;34m.\u001b[0m\u001b[0mget\u001b[0m\u001b[0;34m(\u001b[0m\u001b[0;34m'text'\u001b[0m\u001b[0;34m)\u001b[0m\u001b[0;34m\u001b[0m\u001b[0;34m\u001b[0m\u001b[0m\n\u001b[1;32m    241\u001b[0m             \u001b[0;32mraise\u001b[0m \u001b[0mexception_class\u001b[0m\u001b[0;34m(\u001b[0m\u001b[0mmessage\u001b[0m\u001b[0;34m,\u001b[0m \u001b[0mscreen\u001b[0m\u001b[0;34m,\u001b[0m \u001b[0mstacktrace\u001b[0m\u001b[0;34m,\u001b[0m \u001b[0malert_text\u001b[0m\u001b[0;34m)\u001b[0m\u001b[0;34m\u001b[0m\u001b[0;34m\u001b[0m\u001b[0m\n\u001b[0;32m--> 242\u001b[0;31m         \u001b[0;32mraise\u001b[0m \u001b[0mexception_class\u001b[0m\u001b[0;34m(\u001b[0m\u001b[0mmessage\u001b[0m\u001b[0;34m,\u001b[0m \u001b[0mscreen\u001b[0m\u001b[0;34m,\u001b[0m \u001b[0mstacktrace\u001b[0m\u001b[0;34m)\u001b[0m\u001b[0;34m\u001b[0m\u001b[0;34m\u001b[0m\u001b[0m\n\u001b[0m\u001b[1;32m    243\u001b[0m \u001b[0;34m\u001b[0m\u001b[0m\n\u001b[1;32m    244\u001b[0m     \u001b[0;32mdef\u001b[0m \u001b[0m_value_or_default\u001b[0m\u001b[0;34m(\u001b[0m\u001b[0mself\u001b[0m\u001b[0;34m,\u001b[0m \u001b[0mobj\u001b[0m\u001b[0;34m,\u001b[0m \u001b[0mkey\u001b[0m\u001b[0;34m,\u001b[0m \u001b[0mdefault\u001b[0m\u001b[0;34m)\u001b[0m\u001b[0;34m:\u001b[0m\u001b[0;34m\u001b[0m\u001b[0;34m\u001b[0m\u001b[0m\n",
            "\u001b[0;31mInvalidArgumentException\u001b[0m: Message: invalid argument\n  (Session info: headless chrome=91.0.4472.101)\n"
          ]
        }
      ]
    },
    {
      "cell_type": "code",
      "metadata": {
        "id": "x5hZsDF-oFIl"
      },
      "source": [
        ""
      ],
      "execution_count": null,
      "outputs": []
    }
  ]
}