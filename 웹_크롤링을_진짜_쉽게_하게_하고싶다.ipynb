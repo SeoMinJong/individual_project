{
  "nbformat": 4,
  "nbformat_minor": 2,
  "metadata": {
    "colab": {
      "name": "웹 크롤링을 진짜 쉽게 하게 하고싶다.ipynb",
      "provenance": [],
      "collapsed_sections": [],
      "mount_file_id": "1sA9D8x1E_42MLLnz9D-XPEAVYKzSGXdi",
      "authorship_tag": "ABX9TyNeS20AacgEsXlg6/4psBB2",
      "include_colab_link": true
    },
    "kernelspec": {
      "name": "python3",
      "display_name": "Python 3.8.10 64-bit ('AI': conda)"
    },
    "language_info": {
      "name": "python",
      "version": "3.8.10",
      "mimetype": "text/x-python",
      "codemirror_mode": {
        "name": "ipython",
        "version": 3
      },
      "pygments_lexer": "ipython3",
      "nbconvert_exporter": "python",
      "file_extension": ".py"
    },
    "interpreter": {
      "hash": "a5687bde95fd6fca2ec3b85cb3c9285f22ecff7124cf9696e13fa92a9bda5109"
    }
  },
  "cells": [
    {
      "cell_type": "markdown",
      "source": [
        "<a href=\"https://colab.research.google.com/github/SeoMinJong/individual_project/blob/main/%EC%9B%B9_%ED%81%AC%EB%A1%A4%EB%A7%81%EC%9D%84_%EC%A7%84%EC%A7%9C_%EC%89%BD%EA%B2%8C_%ED%95%98%EA%B2%8C_%ED%95%98%EA%B3%A0%EC%8B%B6%EB%8B%A4.ipynb\" target=\"_parent\"><img src=\"https://colab.research.google.com/assets/colab-badge.svg\" alt=\"Open In Colab\"/></a>"
      ],
      "metadata": {
        "id": "view-in-github",
        "colab_type": "text"
      }
    },
    {
      "cell_type": "code",
      "execution_count": 1,
      "source": [
        "# 솔직히 웹 크롤링 좋은거 같은데 일반인은 고사하고 초보자조차도 활용하기 진짜 뒤지게 어렵다.\r\n",
        "# 그러면 이렇게 어려운 웹 크롤링 근데 좋은건 다 알잖음 그러면 쉽게만 만들면 어때?\r\n",
        "# 이미 크롤링 프로그램 많지 근데 한국에 특화된게 있나? 그것도 일반인이 검색만 하면 쭉 긁어오게해주는 프로그램 있나?\r\n",
        "# 그러면 만들 의미는 충분한거 같다."
      ],
      "outputs": [],
      "metadata": {
        "id": "Rn2jbXjnmRll"
      }
    },
    {
      "cell_type": "code",
      "execution_count": 5,
      "source": [
        "!pip install Selenium\r\n",
        "!apt-get update # to update ubuntu to correctly run apt install\r\n",
        "!apt install chromium-chromedriver"
      ],
      "outputs": [
        {
          "output_type": "stream",
          "name": "stdout",
          "text": [
            "Requirement already satisfied: Selenium in c:\\users\\seominjong\\anaconda3\\envs\\ai\\lib\\site-packages (3.141.0)\n",
            "Requirement already satisfied: urllib3 in c:\\users\\seominjong\\anaconda3\\envs\\ai\\lib\\site-packages (from Selenium) (1.26.4)\n"
          ]
        },
        {
          "output_type": "stream",
          "name": "stderr",
          "text": [
            "'apt-get'��(��) ���� �Ǵ� �ܺ� ����, ������ �� �ִ� ���α׷�, �Ǵ�\n",
            "��ġ ������ �ƴմϴ�.\n",
            "'apt'��(��) ���� �Ǵ� �ܺ� ����, ������ �� �ִ� ���α׷�, �Ǵ�\n",
            "��ġ ������ �ƴմϴ�.\n"
          ]
        }
      ],
      "metadata": {
        "colab": {
          "base_uri": "https://localhost:8080/"
        },
        "id": "hFCi8Cfds9cc",
        "outputId": "0a0ba3ff-6f67-42da-d819-75c9c3e78fb0"
      }
    },
    {
      "cell_type": "code",
      "execution_count": 6,
      "source": [
        "# 한글 폰트 설치\r\n",
        "!apt-get install -y fonts-nanum*"
      ],
      "outputs": [
        {
          "output_type": "stream",
          "name": "stderr",
          "text": [
            "'apt-get'��(��) ���� �Ǵ� �ܺ� ����, ������ �� �ִ� ���α׷�, �Ǵ�\n",
            "��ġ ������ �ƴմϴ�.\n"
          ]
        }
      ],
      "metadata": {
        "colab": {
          "base_uri": "https://localhost:8080/"
        },
        "id": "KJDe804wyy4L",
        "outputId": "b2766e24-87e2-4c64-d841-249e908f9771"
      }
    },
    {
      "cell_type": "code",
      "execution_count": 7,
      "source": [
        "# url 모음\r\n",
        "google_url = 'https://www.google.com/search'\r\n",
        "naver_url = 'https://search.naver.com/search.naver'"
      ],
      "outputs": [],
      "metadata": {
        "id": "6iJEY-z4tedi"
      }
    },
    {
      "cell_type": "code",
      "execution_count": 2,
      "source": [
        "import requests as req\r\n",
        "import urllib.request\r\n",
        "import time\r\n",
        "import os\r\n",
        "from tkinter import messagebox\r\n",
        "# from bs4 import BeautifulSoup as bs\r\n",
        "from selenium import webdriver as wb\r\n",
        "from selenium.webdriver.common.keys import Keys\r\n",
        "\r\n",
        "class Web_crawling:\r\n",
        "    def __init__(self, url, word, img_count):\r\n",
        "        self.normal_url = 'https://search.naver.com/search.naver?where=image&sm=tab_jum&query=' # 기본 url 설정\r\n",
        "        self.url = url\r\n",
        "        self.img_count = img_count\r\n",
        "        self.google_url = 'https://www.google.com/search?q='\r\n",
        "        self.naver_url = 'https://search.naver.com/search.naver?where=image&sm=tab_jum&query='\r\n",
        "        self.url_list = [ 'Google', 'Naver']\r\n",
        "    \r\n",
        "    def action(self):\r\n",
        "        download_path = './Downloads'\r\n",
        "        self.get_url()\r\n",
        "\r\n",
        "        # 링크 미입력시\r\n",
        "        # if self.url == '':\r\n",
        "        #     print('[오류] 링크를 입력해주세요.\\n')\r\n",
        "        #     messagebox.showwarning(\"유튜브 다운로드 프로그램\", \"링크를 입력해주세요.\")\r\n",
        "        \r\n",
        "        # 링크 입력시\r\n",
        "        # else:\r\n",
        "        #     Wc = Web_crawling()\r\n",
        "        #     # 폴더 생성 함수 호출\r\n",
        "        #     Wc.createFolder(download_path)\r\n",
        "        #     # 유튜브 동영상 다운로드 함수 호출\r\n",
        "        #     Wc.youtube_download(self.url)\r\n",
        "\r\n",
        "    def get_url(self):\r\n",
        "        print(self.url)\r\n",
        "        if self.url in self.url_list:\r\n",
        "            if self.url == self.google_url:\r\n",
        "                self.google_button()\r\n",
        "            elif self.url == self.naver_url:\r\n",
        "                self.naver_button()\r\n",
        "            print(url)\r\n",
        "            print('5초를 기다려주세요')\r\n",
        "            time.sleep(2)\r\n",
        "            self.chorm_options()\r\n",
        "        else:\r\n",
        "            print(\"아직 서비스되지 않는 url입니다.\")\r\n",
        "    \r\n",
        "    def google_button(self):\r\n",
        "        self.url = 'https://www.google.com/search?q='\r\n",
        "\r\n",
        "    def naver_button(self):\r\n",
        "        self.url = 'https://search.naver.com/search.naver?where=image&sm=tab_jum&query='\r\n",
        "\r\n",
        "    def chorm_options(self):\r\n",
        "        chrome_options = wb.ChromeOptions()\r\n",
        "        chrome_options.add_argument('--headless') #내부 창을 띄울 수 없으므로 설정\r\n",
        "        chrome_options.add_argument('--no-sandbox')\r\n",
        "        chrome_options.add_argument('--disable-dev-shm-usage')\r\n",
        "\r\n",
        "        self.driver = wb.Chrome('chromedriver', chrome_options=chrome_options)\r\n",
        "\r\n",
        "\r\n",
        "\r\n",
        "    def down_scroll(self):\r\n",
        "        self.driver.get(self.url)\r\n",
        "        self.driver.save_screenshot('/content/drive/MyDrive/Colab Notebooks/web_crawling_image/screenshot.png')\r\n",
        "        \r\n",
        "    def save_img(self):\r\n",
        "        pass"
      ],
      "outputs": [],
      "metadata": {
        "id": "R1WLb3hPxVCT"
      }
    },
    {
      "cell_type": "code",
      "execution_count": 4,
      "source": [
        "Wc = Web_crawling('Naver','keyword',20)\r\n",
        "Wc.get_url()\r\n",
        "Wc.down_scroll()\r\n",
        "# print(Wc.url)"
      ],
      "outputs": [
        {
          "output_type": "stream",
          "name": "stdout",
          "text": [
            "Naver\n",
            "5초를 기다려주세요\n"
          ]
        },
        {
          "output_type": "stream",
          "name": "stderr",
          "text": [
            "<ipython-input-2-f2db6a691c92>:61: DeprecationWarning: use options instead of chrome_options\n",
            "  self.driver = wb.Chrome('chromedriver', chrome_options=chrome_options)\n"
          ]
        },
        {
          "output_type": "error",
          "ename": "InvalidArgumentException",
          "evalue": "Message: invalid argument\n  (Session info: headless chrome=92.0.4515.107)\n",
          "traceback": [
            "\u001b[1;31m---------------------------------------------------------------------------\u001b[0m",
            "\u001b[1;31mInvalidArgumentException\u001b[0m                  Traceback (most recent call last)",
            "\u001b[1;32m<ipython-input-4-39dbc6acdb67>\u001b[0m in \u001b[0;36m<module>\u001b[1;34m\u001b[0m\n\u001b[0;32m      1\u001b[0m \u001b[0mWc\u001b[0m \u001b[1;33m=\u001b[0m \u001b[0mWeb_crawling\u001b[0m\u001b[1;33m(\u001b[0m\u001b[1;34m'Naver'\u001b[0m\u001b[1;33m,\u001b[0m\u001b[1;34m'keyword'\u001b[0m\u001b[1;33m,\u001b[0m\u001b[1;36m20\u001b[0m\u001b[1;33m)\u001b[0m\u001b[1;33m\u001b[0m\u001b[1;33m\u001b[0m\u001b[0m\n\u001b[0;32m      2\u001b[0m \u001b[0mWc\u001b[0m\u001b[1;33m.\u001b[0m\u001b[0mget_url\u001b[0m\u001b[1;33m(\u001b[0m\u001b[1;33m)\u001b[0m\u001b[1;33m\u001b[0m\u001b[1;33m\u001b[0m\u001b[0m\n\u001b[1;32m----> 3\u001b[1;33m \u001b[0mWc\u001b[0m\u001b[1;33m.\u001b[0m\u001b[0mdown_scroll\u001b[0m\u001b[1;33m(\u001b[0m\u001b[1;33m)\u001b[0m\u001b[1;33m\u001b[0m\u001b[1;33m\u001b[0m\u001b[0m\n\u001b[0m\u001b[0;32m      4\u001b[0m \u001b[1;31m# print(Wc.url)\u001b[0m\u001b[1;33m\u001b[0m\u001b[1;33m\u001b[0m\u001b[1;33m\u001b[0m\u001b[0m\n",
            "\u001b[1;32m<ipython-input-2-f2db6a691c92>\u001b[0m in \u001b[0;36mdown_scroll\u001b[1;34m(self)\u001b[0m\n\u001b[0;32m     64\u001b[0m \u001b[1;33m\u001b[0m\u001b[0m\n\u001b[0;32m     65\u001b[0m     \u001b[1;32mdef\u001b[0m \u001b[0mdown_scroll\u001b[0m\u001b[1;33m(\u001b[0m\u001b[0mself\u001b[0m\u001b[1;33m)\u001b[0m\u001b[1;33m:\u001b[0m\u001b[1;33m\u001b[0m\u001b[1;33m\u001b[0m\u001b[0m\n\u001b[1;32m---> 66\u001b[1;33m         \u001b[0mself\u001b[0m\u001b[1;33m.\u001b[0m\u001b[0mdriver\u001b[0m\u001b[1;33m.\u001b[0m\u001b[0mget\u001b[0m\u001b[1;33m(\u001b[0m\u001b[0mself\u001b[0m\u001b[1;33m.\u001b[0m\u001b[0murl\u001b[0m\u001b[1;33m)\u001b[0m\u001b[1;33m\u001b[0m\u001b[1;33m\u001b[0m\u001b[0m\n\u001b[0m\u001b[0;32m     67\u001b[0m         \u001b[0mself\u001b[0m\u001b[1;33m.\u001b[0m\u001b[0mdriver\u001b[0m\u001b[1;33m.\u001b[0m\u001b[0msave_screenshot\u001b[0m\u001b[1;33m(\u001b[0m\u001b[1;34m'/content/drive/MyDrive/Colab Notebooks/web_crawling_image/screenshot.png'\u001b[0m\u001b[1;33m)\u001b[0m\u001b[1;33m\u001b[0m\u001b[1;33m\u001b[0m\u001b[0m\n\u001b[0;32m     68\u001b[0m \u001b[1;33m\u001b[0m\u001b[0m\n",
            "\u001b[1;32m~\\Anaconda3\\envs\\AI\\lib\\site-packages\\selenium\\webdriver\\remote\\webdriver.py\u001b[0m in \u001b[0;36mget\u001b[1;34m(self, url)\u001b[0m\n\u001b[0;32m    331\u001b[0m         \u001b[0mLoads\u001b[0m \u001b[0ma\u001b[0m \u001b[0mweb\u001b[0m \u001b[0mpage\u001b[0m \u001b[1;32min\u001b[0m \u001b[0mthe\u001b[0m \u001b[0mcurrent\u001b[0m \u001b[0mbrowser\u001b[0m \u001b[0msession\u001b[0m\u001b[1;33m.\u001b[0m\u001b[1;33m\u001b[0m\u001b[1;33m\u001b[0m\u001b[0m\n\u001b[0;32m    332\u001b[0m         \"\"\"\n\u001b[1;32m--> 333\u001b[1;33m         \u001b[0mself\u001b[0m\u001b[1;33m.\u001b[0m\u001b[0mexecute\u001b[0m\u001b[1;33m(\u001b[0m\u001b[0mCommand\u001b[0m\u001b[1;33m.\u001b[0m\u001b[0mGET\u001b[0m\u001b[1;33m,\u001b[0m \u001b[1;33m{\u001b[0m\u001b[1;34m'url'\u001b[0m\u001b[1;33m:\u001b[0m \u001b[0murl\u001b[0m\u001b[1;33m}\u001b[0m\u001b[1;33m)\u001b[0m\u001b[1;33m\u001b[0m\u001b[1;33m\u001b[0m\u001b[0m\n\u001b[0m\u001b[0;32m    334\u001b[0m \u001b[1;33m\u001b[0m\u001b[0m\n\u001b[0;32m    335\u001b[0m     \u001b[1;33m@\u001b[0m\u001b[0mproperty\u001b[0m\u001b[1;33m\u001b[0m\u001b[1;33m\u001b[0m\u001b[0m\n",
            "\u001b[1;32m~\\Anaconda3\\envs\\AI\\lib\\site-packages\\selenium\\webdriver\\remote\\webdriver.py\u001b[0m in \u001b[0;36mexecute\u001b[1;34m(self, driver_command, params)\u001b[0m\n\u001b[0;32m    319\u001b[0m         \u001b[0mresponse\u001b[0m \u001b[1;33m=\u001b[0m \u001b[0mself\u001b[0m\u001b[1;33m.\u001b[0m\u001b[0mcommand_executor\u001b[0m\u001b[1;33m.\u001b[0m\u001b[0mexecute\u001b[0m\u001b[1;33m(\u001b[0m\u001b[0mdriver_command\u001b[0m\u001b[1;33m,\u001b[0m \u001b[0mparams\u001b[0m\u001b[1;33m)\u001b[0m\u001b[1;33m\u001b[0m\u001b[1;33m\u001b[0m\u001b[0m\n\u001b[0;32m    320\u001b[0m         \u001b[1;32mif\u001b[0m \u001b[0mresponse\u001b[0m\u001b[1;33m:\u001b[0m\u001b[1;33m\u001b[0m\u001b[1;33m\u001b[0m\u001b[0m\n\u001b[1;32m--> 321\u001b[1;33m             \u001b[0mself\u001b[0m\u001b[1;33m.\u001b[0m\u001b[0merror_handler\u001b[0m\u001b[1;33m.\u001b[0m\u001b[0mcheck_response\u001b[0m\u001b[1;33m(\u001b[0m\u001b[0mresponse\u001b[0m\u001b[1;33m)\u001b[0m\u001b[1;33m\u001b[0m\u001b[1;33m\u001b[0m\u001b[0m\n\u001b[0m\u001b[0;32m    322\u001b[0m             response['value'] = self._unwrap_value(\n\u001b[0;32m    323\u001b[0m                 response.get('value', None))\n",
            "\u001b[1;32m~\\Anaconda3\\envs\\AI\\lib\\site-packages\\selenium\\webdriver\\remote\\errorhandler.py\u001b[0m in \u001b[0;36mcheck_response\u001b[1;34m(self, response)\u001b[0m\n\u001b[0;32m    240\u001b[0m                 \u001b[0malert_text\u001b[0m \u001b[1;33m=\u001b[0m \u001b[0mvalue\u001b[0m\u001b[1;33m[\u001b[0m\u001b[1;34m'alert'\u001b[0m\u001b[1;33m]\u001b[0m\u001b[1;33m.\u001b[0m\u001b[0mget\u001b[0m\u001b[1;33m(\u001b[0m\u001b[1;34m'text'\u001b[0m\u001b[1;33m)\u001b[0m\u001b[1;33m\u001b[0m\u001b[1;33m\u001b[0m\u001b[0m\n\u001b[0;32m    241\u001b[0m             \u001b[1;32mraise\u001b[0m \u001b[0mexception_class\u001b[0m\u001b[1;33m(\u001b[0m\u001b[0mmessage\u001b[0m\u001b[1;33m,\u001b[0m \u001b[0mscreen\u001b[0m\u001b[1;33m,\u001b[0m \u001b[0mstacktrace\u001b[0m\u001b[1;33m,\u001b[0m \u001b[0malert_text\u001b[0m\u001b[1;33m)\u001b[0m\u001b[1;33m\u001b[0m\u001b[1;33m\u001b[0m\u001b[0m\n\u001b[1;32m--> 242\u001b[1;33m         \u001b[1;32mraise\u001b[0m \u001b[0mexception_class\u001b[0m\u001b[1;33m(\u001b[0m\u001b[0mmessage\u001b[0m\u001b[1;33m,\u001b[0m \u001b[0mscreen\u001b[0m\u001b[1;33m,\u001b[0m \u001b[0mstacktrace\u001b[0m\u001b[1;33m)\u001b[0m\u001b[1;33m\u001b[0m\u001b[1;33m\u001b[0m\u001b[0m\n\u001b[0m\u001b[0;32m    243\u001b[0m \u001b[1;33m\u001b[0m\u001b[0m\n\u001b[0;32m    244\u001b[0m     \u001b[1;32mdef\u001b[0m \u001b[0m_value_or_default\u001b[0m\u001b[1;33m(\u001b[0m\u001b[0mself\u001b[0m\u001b[1;33m,\u001b[0m \u001b[0mobj\u001b[0m\u001b[1;33m,\u001b[0m \u001b[0mkey\u001b[0m\u001b[1;33m,\u001b[0m \u001b[0mdefault\u001b[0m\u001b[1;33m)\u001b[0m\u001b[1;33m:\u001b[0m\u001b[1;33m\u001b[0m\u001b[1;33m\u001b[0m\u001b[0m\n",
            "\u001b[1;31mInvalidArgumentException\u001b[0m: Message: invalid argument\n  (Session info: headless chrome=92.0.4515.107)\n"
          ]
        }
      ],
      "metadata": {
        "colab": {
          "base_uri": "https://localhost:8080/",
          "height": 439
        },
        "id": "Zi1NmNyp1OTq",
        "outputId": "558c8f50-fdc4-4e19-8153-ae492a42c927"
      }
    },
    {
      "cell_type": "code",
      "execution_count": null,
      "source": [],
      "outputs": [],
      "metadata": {
        "id": "x5hZsDF-oFIl"
      }
    }
  ]
}