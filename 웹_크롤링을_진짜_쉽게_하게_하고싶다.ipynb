{
  "nbformat": 4,
  "nbformat_minor": 2,
  "metadata": {
    "colab": {
      "name": "웹 크롤링을 진짜 쉽게 하게 하고싶다.ipynb",
      "provenance": [],
      "collapsed_sections": [],
      "mount_file_id": "1sA9D8x1E_42MLLnz9D-XPEAVYKzSGXdi",
      "authorship_tag": "ABX9TyNeS20AacgEsXlg6/4psBB2",
      "include_colab_link": true
    },
    "kernelspec": {
      "name": "python3",
      "display_name": "Python 3.8.10 64-bit ('AI': conda)"
    },
    "language_info": {
      "name": "python",
      "version": "3.8.10",
      "mimetype": "text/x-python",
      "codemirror_mode": {
        "name": "ipython",
        "version": 3
      },
      "pygments_lexer": "ipython3",
      "nbconvert_exporter": "python",
      "file_extension": ".py"
    },
    "interpreter": {
      "hash": "a5687bde95fd6fca2ec3b85cb3c9285f22ecff7124cf9696e13fa92a9bda5109"
    }
  },
  "cells": [
    {
      "cell_type": "markdown",
      "source": [
        "<a href=\"https://colab.research.google.com/github/SeoMinJong/individual_project/blob/main/%EC%9B%B9_%ED%81%AC%EB%A1%A4%EB%A7%81%EC%9D%84_%EC%A7%84%EC%A7%9C_%EC%89%BD%EA%B2%8C_%ED%95%98%EA%B2%8C_%ED%95%98%EA%B3%A0%EC%8B%B6%EB%8B%A4.ipynb\" target=\"_parent\"><img src=\"https://colab.research.google.com/assets/colab-badge.svg\" alt=\"Open In Colab\"/></a>"
      ],
      "metadata": {
        "id": "view-in-github",
        "colab_type": "text"
      }
    },
    {
      "cell_type": "code",
      "execution_count": 1,
      "source": [
        "# 솔직히 웹 크롤링 좋은거 같은데 일반인은 고사하고 초보자조차도 활용하기 진짜 뒤지게 어렵다.\r\n",
        "# 그러면 이렇게 어려운 웹 크롤링 근데 좋은건 다 알잖음 그러면 쉽게만 만들면 어때?\r\n",
        "# 이미 크롤링 프로그램 많지 근데 한국에 특화된게 있나? 그것도 일반인이 검색만 하면 쭉 긁어오게해주는 프로그램 있나?\r\n",
        "# 그러면 만들 의미는 충분한거 같다."
      ],
      "outputs": [],
      "metadata": {
        "id": "Rn2jbXjnmRll"
      }
    },
    {
      "cell_type": "code",
      "execution_count": 21,
      "source": [
        "!pip install Selenium\r\n",
        "!apt-get update # to update ubuntu to correctly run apt install\r\n",
        "!apt install chromium-chromedriver"
      ],
      "outputs": [
        {
          "output_type": "stream",
          "name": "stdout",
          "text": [
            "Requirement already satisfied: Selenium in c:\\users\\seominjong\\anaconda3\\envs\\ai\\lib\\site-packages (3.141.0)\n",
            "Requirement already satisfied: urllib3 in c:\\users\\seominjong\\anaconda3\\envs\\ai\\lib\\site-packages (from Selenium) (1.26.4)\n"
          ]
        },
        {
          "output_type": "stream",
          "name": "stderr",
          "text": [
            "'apt-get'��(��) ���� �Ǵ� �ܺ� ����, ������ �� �ִ� ���α׷�, �Ǵ�\n",
            "��ġ ������ �ƴմϴ�.\n",
            "'apt'��(��) ���� �Ǵ� �ܺ� ����, ������ �� �ִ� ���α׷�, �Ǵ�\n",
            "��ġ ������ �ƴմϴ�.\n"
          ]
        }
      ],
      "metadata": {
        "colab": {
          "base_uri": "https://localhost:8080/"
        },
        "id": "hFCi8Cfds9cc",
        "outputId": "0a0ba3ff-6f67-42da-d819-75c9c3e78fb0"
      }
    },
    {
      "cell_type": "code",
      "execution_count": 22,
      "source": [
        "# 한글 폰트 설치\r\n",
        "!apt-get install -y fonts-nanum*"
      ],
      "outputs": [
        {
          "output_type": "stream",
          "name": "stderr",
          "text": [
            "'apt-get'��(��) ���� �Ǵ� �ܺ� ����, ������ �� �ִ� ���α׷�, �Ǵ�\n",
            "��ġ ������ �ƴմϴ�.\n"
          ]
        }
      ],
      "metadata": {
        "colab": {
          "base_uri": "https://localhost:8080/"
        },
        "id": "KJDe804wyy4L",
        "outputId": "b2766e24-87e2-4c64-d841-249e908f9771"
      }
    },
    {
      "cell_type": "code",
      "execution_count": 23,
      "source": [
        "# url 모음\r\n",
        "google_url = 'https://www.google.com/search'\r\n",
        "naver_url = 'https://search.naver.com/search.naver'"
      ],
      "outputs": [],
      "metadata": {
        "id": "6iJEY-z4tedi"
      }
    },
    {
      "cell_type": "code",
      "execution_count": 83,
      "source": [
        "import requests as req\r\n",
        "import  urllib.request as urlreq\r\n",
        "import time\r\n",
        "import os\r\n",
        "from tkinter import messagebox\r\n",
        "from bs4 import BeautifulSoup as bs\r\n",
        "from selenium import webdriver as wb\r\n",
        "from selenium.webdriver.common.keys import Keys\r\n",
        "from warnings import filterwarnings\r\n",
        "import warnings\r\n",
        "\r\n",
        "class Web_crawling:\r\n",
        "    def __init__(self, url, command, img_count, path):\r\n",
        "        self.normal_url = 'https://search.naver.com/search.naver?where=image&sm=tab_jum&query=' # 기본 url 설정\r\n",
        "        self.url = url\r\n",
        "        self.img_count = img_count\r\n",
        "        self.command = command\r\n",
        "        self.path = str(path).replace(\"\\\\\",\"/\")\r\n",
        "        # self.google_url = 'https://www.google.com/search?q='\r\n",
        "        # self.naver_url = 'https://search.naver.com/search.naver?where=image&sm=tab_jum&query='\r\n",
        "        self.url_list = [ 'Google', 'Naver']\r\n",
        "        filterwarnings('ignore')\r\n",
        "    \r\n",
        "    def action(self):\r\n",
        "        download_path = './Downloads'\r\n",
        "        self.get_url()\r\n",
        "        self.scroll_down()\r\n",
        "\r\n",
        "\r\n",
        "        # 링크 미입력시\r\n",
        "        # if self.url == '':\r\n",
        "        #     print('[오류] 링크를 입력해주세요.\\n')\r\n",
        "        #     messagebox.showwarning(\"유튜브 다운로드 프로그램\", \"링크를 입력해주세요.\")\r\n",
        "        \r\n",
        "        # 링크 입력시\r\n",
        "        # else:\r\n",
        "        #     Wc = Web_crawling()\r\n",
        "        #     # 폴더 생성 함수 호출\r\n",
        "        #     Wc.createFolder(download_path)\r\n",
        "        #     # 유튜브 동영상 다운로드 함수 호출\r\n",
        "        #     Wc.youtube_download(self.url)\r\n",
        "\r\n",
        "    def get_url(self):\r\n",
        "        print(self.url)\r\n",
        "        if self.url in self.url_list:\r\n",
        "            if self.url == 'Google':\r\n",
        "                self.google_button()\r\n",
        "            elif self.url == 'Naver':\r\n",
        "                self.naver_button()\r\n",
        "            print(self.url)\r\n",
        "            print('5초를 기다려주세요')\r\n",
        "            time.sleep(0.5)\r\n",
        "            self.chorm_options()\r\n",
        "        else:\r\n",
        "            print(\"아직 서비스되지 않는 url입니다.\")\r\n",
        "        self.driver.get(self.url)\r\n",
        "\r\n",
        "    def google_button(self):\r\n",
        "        self.url = \"https://www.google.com/search?q=\" + str(self.command) + \"&hl=ko&tbm=isch\"\r\n",
        "\r\n",
        "    def naver_button(self):\r\n",
        "        self.url = 'https://search.naver.com/search.naver?where=image&sm=tab_jum&query='+str(self.command)\r\n",
        "\r\n",
        "    def chorm_options(self):\r\n",
        "        chrome_options = wb.ChromeOptions()\r\n",
        "        chrome_options.add_argument('--headless') #내부 창을 띄울 수 없으므로 설정\r\n",
        "        chrome_options.add_argument('--no-sandbox')\r\n",
        "        chrome_options.add_argument('--disable-dev-shm-usage')\r\n",
        "\r\n",
        "        self.driver = wb.Chrome('C:/Users/SeoMinJong/Downloads/chromedriver_win32/chromedriver.exe')\r\n",
        "\r\n",
        "    def naver_search(self):\r\n",
        "        time.sleep(0.5)\r\n",
        "        self.scroll_down()\r\n",
        "\r\n",
        "    def google_search(self):\r\n",
        "        time.sleep(0.5)\r\n",
        "        self.scroll_down()\r\n",
        "\r\n",
        "    def scroll_down(self):\r\n",
        "        self.driver.save_screenshot(('C:/craling_test/Naver_scroll_down_start_page_test.png'))\r\n",
        "        scrollcount = self.img_count // 5\r\n",
        "        for i in range(scrollcount+1):\r\n",
        "            self.driver.find_element_by_tag_name('body').send_keys(Keys.PAGE_DOWN)\r\n",
        "            time.sleep(0.1)\r\n",
        "        self.driver.save_screenshot(('C:/craling_test/Naver_scroll_down_test.png').format(i))\r\n",
        "\r\n",
        "    def save_img(self):\r\n",
        "    #     try:\r\n",
        "        self.img_limit = len(self.driver.find_elements_by_tag_name(\"img\"))\r\n",
        "        if self.img_count > self.img_limit:\r\n",
        "            for i in range(self.img_count):\r\n",
        "                soup = bs(self.driver.page_source,'html.parser')\r\n",
        "                image_url = soup.find_all(\"img\")\r\n",
        "                image_url_src = image_url[i+23].attrs['src']\r\n",
        "                time.sleep(0.1)\r\n",
        "                urlreq.urlretrieve(image_url_src, (str(self.path) + str(self.command) + str(i)))\r\n",
        "        else:\r\n",
        "            for i in range(self.img_count):\r\n",
        "                soup = bs(self.driver.page_source,'html.parser')\r\n",
        "                image_url = soup.find_all(\"img\")\r\n",
        "                image_url_src = image_url[i+23].attrs['src']\r\n",
        "                time.sleep(0.1)\r\n",
        "                urlreq.urlretrieve(image_url_src, (str(self.path) + \"/\" + str(self.command) + str(i) + \".png\"))\r\n",
        "        self.driver.close()\r\n",
        "        # except:\r\n",
        "        #     self.driver.close()"
      ],
      "outputs": [],
      "metadata": {
        "id": "R1WLb3hPxVCT"
      }
    },
    {
      "cell_type": "code",
      "execution_count": 84,
      "source": [
        "Wc = Web_crawling('Naver','아이스크림',100, 'C:\\craling_test')\r\n",
        "Wc.get_url()\r\n",
        "Wc.google_search()\r\n",
        "Wc.save_img()"
      ],
      "outputs": [
        {
          "output_type": "stream",
          "name": "stdout",
          "text": [
            "Naver\n",
            "https://search.naver.com/search.naver?where=image&sm=tab_jum&query=아이스크림\n",
            "5초를 기다려주세요\n"
          ]
        }
      ],
      "metadata": {
        "colab": {
          "base_uri": "https://localhost:8080/",
          "height": 439
        },
        "id": "Zi1NmNyp1OTq",
        "outputId": "558c8f50-fdc4-4e19-8153-ae492a42c927"
      }
    },
    {
      "cell_type": "code",
      "execution_count": 70,
      "source": [
        "test_rulreq = urlreq.urlretrieve(\"https://search.pstatic.net/common/?src=http%3A%2F%2Fcafefiles.naver.net%2FMjAxNzAxMTVfMjkg%2FMDAxNDg0NDA4MjIyNzI5.dcM6GMlwO5CkOrKjSO0Eg-eUDlmFenbo6jQ94z2DbaAg.M6PWl1CnWJVl-0b0lxlZjQLv22Dc1JsrXyGwHlC_fIAg.GIF.yongjun717%2FexternalFile.gif&type=a340\",\"C:/craling_test/볼사1.png\")"
      ],
      "outputs": [],
      "metadata": {}
    },
    {
      "cell_type": "code",
      "execution_count": null,
      "source": [],
      "outputs": [],
      "metadata": {}
    }
  ]
}